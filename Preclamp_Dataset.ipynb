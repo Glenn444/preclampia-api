{
 "cells": [
  {
   "cell_type": "code",
   "execution_count": 1,
   "id": "b640b7e0",
   "metadata": {},
   "outputs": [],
   "source": [
    "import pandas as pd"
   ]
  },
  {
   "cell_type": "code",
   "execution_count": 2,
   "id": "b96671d6",
   "metadata": {},
   "outputs": [],
   "source": [
    "file_path = r\"/home/glenn/jupyter/precamplsia/PreclampsiaData.csv\"\n",
    "df = pd.read_csv(file_path)"
   ]
  },
  {
   "cell_type": "code",
   "execution_count": 3,
   "id": "42096914",
   "metadata": {},
   "outputs": [
    {
     "data": {
      "text/html": [
       "<div>\n",
       "<style scoped>\n",
       "    .dataframe tbody tr th:only-of-type {\n",
       "        vertical-align: middle;\n",
       "    }\n",
       "\n",
       "    .dataframe tbody tr th {\n",
       "        vertical-align: top;\n",
       "    }\n",
       "\n",
       "    .dataframe thead th {\n",
       "        text-align: right;\n",
       "    }\n",
       "</style>\n",
       "<table border=\"1\" class=\"dataframe\">\n",
       "  <thead>\n",
       "    <tr style=\"text-align: right;\">\n",
       "      <th></th>\n",
       "      <th>Age</th>\n",
       "      <th>Pre_pregnancy_Weight</th>\n",
       "      <th>Parity</th>\n",
       "      <th>Annual_Income</th>\n",
       "      <th>Socioeconomic_Status</th>\n",
       "      <th>History_of_Hypertension</th>\n",
       "      <th>History_of_Diabetes</th>\n",
       "      <th>History_of_Preeclampsia</th>\n",
       "      <th>Proteinuria_Levels</th>\n",
       "      <th>Month</th>\n",
       "      <th>Systolic_BP</th>\n",
       "      <th>Diastolic_BP</th>\n",
       "      <th>Preclampsia_Outcome</th>\n",
       "    </tr>\n",
       "  </thead>\n",
       "  <tbody>\n",
       "    <tr>\n",
       "      <th>0</th>\n",
       "      <td>19</td>\n",
       "      <td>74.9</td>\n",
       "      <td>1</td>\n",
       "      <td>0-284040</td>\n",
       "      <td>Low</td>\n",
       "      <td>No</td>\n",
       "      <td>No</td>\n",
       "      <td>No</td>\n",
       "      <td>1.0</td>\n",
       "      <td>1</td>\n",
       "      <td>151</td>\n",
       "      <td>88</td>\n",
       "      <td>1</td>\n",
       "    </tr>\n",
       "    <tr>\n",
       "      <th>1</th>\n",
       "      <td>19</td>\n",
       "      <td>73.9</td>\n",
       "      <td>1</td>\n",
       "      <td>0-284040</td>\n",
       "      <td>Low</td>\n",
       "      <td>Yes</td>\n",
       "      <td>No</td>\n",
       "      <td>Yes</td>\n",
       "      <td>3.0</td>\n",
       "      <td>2</td>\n",
       "      <td>125</td>\n",
       "      <td>76</td>\n",
       "      <td>0</td>\n",
       "    </tr>\n",
       "  </tbody>\n",
       "</table>\n",
       "</div>"
      ],
      "text/plain": [
       "   Age  Pre_pregnancy_Weight   Parity Annual_Income Socioeconomic_Status  \\\n",
       "0   19                   74.9       1      0-284040                  Low   \n",
       "1   19                   73.9       1      0-284040                  Low   \n",
       "\n",
       "  History_of_Hypertension History_of_Diabetes History_of_Preeclampsia  \\\n",
       "0                      No                  No                      No   \n",
       "1                     Yes                  No                     Yes   \n",
       "\n",
       "   Proteinuria_Levels   Month  Systolic_BP  Diastolic_BP  Preclampsia_Outcome  \n",
       "0                  1.0      1          151            88                    1  \n",
       "1                  3.0      2          125            76                    0  "
      ]
     },
     "execution_count": 3,
     "metadata": {},
     "output_type": "execute_result"
    }
   ],
   "source": [
    "df.head(2)"
   ]
  },
  {
   "cell_type": "code",
   "execution_count": 4,
   "id": "c5f297d1",
   "metadata": {},
   "outputs": [
    {
     "name": "stdout",
     "output_type": "stream",
     "text": [
      "   History_of_Hypertension  History_of_Diabetes  History_of_Preeclampsia  \\\n",
      "0                        0                    0                        0   \n",
      "1                        1                    0                        1   \n",
      "2                        0                    0                        0   \n",
      "3                        0                    1                        0   \n",
      "4                        1                    0                        1   \n",
      "5                        0                    0                        0   \n",
      "6                        1                    0                        1   \n",
      "7                        0                    0                        0   \n",
      "8                        0                    1                        0   \n",
      "9                        0                    1                        0   \n",
      "\n",
      "   Socioeconomic_Status  \n",
      "0                     0  \n",
      "1                     0  \n",
      "2                     0  \n",
      "3                     0  \n",
      "4                     0  \n",
      "5                     0  \n",
      "6                     0  \n",
      "7                     0  \n",
      "8                     0  \n",
      "9                     0  \n"
     ]
    }
   ],
   "source": [
    "df[\"History_of_Hypertension\"] = df[\"History_of_Hypertension\"].map({\"No\": 0, \"Yes\": 1})\n",
    "df[\"History_of_Diabetes\"] = df[\"History_of_Diabetes\"].map({\"No\": 0, \"Yes\": 1})\n",
    "df[\"History_of_Preeclampsia\"] = df[\"History_of_Preeclampsia\"].map({\"No\": 0, \"Yes\": 1})\n",
    "\n",
    "#Socioeconomic Status \n",
    "df[\"Socioeconomic_Status\"] = df[\"Socioeconomic_Status\"].map({\"Low\": 0, \"Medium\": 1, \"High\": 2})\n",
    "\n",
    "# Confirm the changes\n",
    "print(df[[\"History_of_Hypertension\", \"History_of_Diabetes\", \"History_of_Preeclampsia\", \"Socioeconomic_Status\"]].head(10))"
   ]
  },
  {
   "cell_type": "code",
   "execution_count": 5,
   "id": "5cf46013",
   "metadata": {},
   "outputs": [
    {
     "name": "stdout",
     "output_type": "stream",
     "text": [
      "Age                          int64\n",
      "Pre_pregnancy_Weight       float64\n",
      "Parity                       int64\n",
      "Annual_Income               object\n",
      "Socioeconomic_Status         int64\n",
      "History_of_Hypertension      int64\n",
      "History_of_Diabetes          int64\n",
      "History_of_Preeclampsia      int64\n",
      "Proteinuria_Levels         float64\n",
      "Month                        int64\n",
      "Systolic_BP                  int64\n",
      "Diastolic_BP                 int64\n",
      "Preclampsia_Outcome          int64\n",
      "dtype: object\n"
     ]
    }
   ],
   "source": [
    "print(df.dtypes)"
   ]
  },
  {
   "cell_type": "code",
   "execution_count": 6,
   "id": "c2af80a1",
   "metadata": {},
   "outputs": [
    {
     "name": "stdout",
     "output_type": "stream",
     "text": [
      "[1 2 3]\n",
      "Age                          int64\n",
      "Pre_pregnancy_Weight       float64\n",
      "Parity                       int64\n",
      "Annual_Income                int64\n",
      "Socioeconomic_Status         int64\n",
      "History_of_Hypertension      int64\n",
      "History_of_Diabetes          int64\n",
      "History_of_Preeclampsia      int64\n",
      "Proteinuria_Levels         float64\n",
      "Month                        int64\n",
      "Systolic_BP                  int64\n",
      "Diastolic_BP                 int64\n",
      "Preclampsia_Outcome          int64\n",
      "dtype: object\n"
     ]
    },
    {
     "name": "stderr",
     "output_type": "stream",
     "text": [
      "/tmp/ipykernel_735685/4034116019.py:2: FutureWarning: Downcasting behavior in `replace` is deprecated and will be removed in a future version. To retain the old behavior, explicitly call `result.infer_objects(copy=False)`. To opt-in to the future behavior, set `pd.set_option('future.no_silent_downcasting', True)`\n",
      "  df[\"Annual_Income\"] = df[\"Annual_Income\"].replace({\n"
     ]
    }
   ],
   "source": [
    "# Annual Income into numerical categories\n",
    "df[\"Annual_Income\"] = df[\"Annual_Income\"].replace({\n",
    "    \"0-284040\": 1,\n",
    "    \"284041-1439988\": 2,\n",
    "    \"Above 1439988\": 3\n",
    "}).astype(int)\n",
    "\n",
    "#conversion\n",
    "print(df[\"Annual_Income\"].unique())\n",
    "print(df.dtypes)"
   ]
  },
  {
   "cell_type": "code",
   "execution_count": 7,
   "id": "409d6589",
   "metadata": {},
   "outputs": [],
   "source": [
    "X = df.drop(columns=[\"Preclampsia_Outcome\"]) \n",
    "y = df[\"Preclampsia_Outcome\"]"
   ]
  },
  {
   "cell_type": "code",
   "execution_count": 8,
   "id": "d47131f8",
   "metadata": {},
   "outputs": [],
   "source": [
    "from sklearn.model_selection import train_test_split\n",
    "\n",
    "X_train, X_test, y_train, y_test = train_test_split(X, y, test_size=0.2, random_state=42, stratify=y)"
   ]
  },
  {
   "cell_type": "code",
   "execution_count": 9,
   "id": "d2e36b44",
   "metadata": {},
   "outputs": [
    {
     "name": "stdout",
     "output_type": "stream",
     "text": [
      "🔹 Logistic Regression Performance:\n",
      "              precision    recall  f1-score   support\n",
      "\n",
      "           0       0.90      0.91      0.90       424\n",
      "           1       0.75      0.73      0.74       161\n",
      "\n",
      "    accuracy                           0.86       585\n",
      "   macro avg       0.83      0.82      0.82       585\n",
      "weighted avg       0.86      0.86      0.86       585\n",
      "\n"
     ]
    },
    {
     "name": "stderr",
     "output_type": "stream",
     "text": [
      "/home/glenn/.local/lib/python3.10/site-packages/sklearn/linear_model/_logistic.py:465: ConvergenceWarning: lbfgs failed to converge (status=1):\n",
      "STOP: TOTAL NO. OF ITERATIONS REACHED LIMIT.\n",
      "\n",
      "Increase the number of iterations (max_iter) or scale the data as shown in:\n",
      "    https://scikit-learn.org/stable/modules/preprocessing.html\n",
      "Please also refer to the documentation for alternative solver options:\n",
      "    https://scikit-learn.org/stable/modules/linear_model.html#logistic-regression\n",
      "  n_iter_i = _check_optimize_result(\n"
     ]
    }
   ],
   "source": [
    "from sklearn.linear_model import LogisticRegression\n",
    "from sklearn.metrics import classification_report\n",
    "\n",
    "log_model = LogisticRegression()\n",
    "log_model.fit(X_train, y_train)\n",
    "\n",
    "y_pred_log = log_model.predict(X_test)\n",
    "\n",
    "print(\"🔹 Logistic Regression Performance:\")\n",
    "print(classification_report(y_test, y_pred_log))"
   ]
  },
  {
   "cell_type": "code",
   "execution_count": 10,
   "id": "2734af13",
   "metadata": {},
   "outputs": [
    {
     "name": "stdout",
     "output_type": "stream",
     "text": [
      "🔹 Random Forest Performance:\n",
      "              precision    recall  f1-score   support\n",
      "\n",
      "           0       0.99      0.99      0.99       424\n",
      "           1       0.97      0.97      0.97       161\n",
      "\n",
      "    accuracy                           0.98       585\n",
      "   macro avg       0.98      0.98      0.98       585\n",
      "weighted avg       0.98      0.98      0.98       585\n",
      "\n"
     ]
    }
   ],
   "source": [
    "from sklearn.ensemble import RandomForestClassifier\n",
    "\n",
    "rf_model = RandomForestClassifier(n_estimators=100, random_state=42)\n",
    "rf_model.fit(X_train, y_train)\n",
    "\n",
    "y_pred_rf = rf_model.predict(X_test)\n",
    "\n",
    "print(\"🔹 Random Forest Performance:\")\n",
    "print(classification_report(y_test, y_pred_rf))"
   ]
  },
  {
   "cell_type": "code",
   "execution_count": 11,
   "id": "72c9e9d7",
   "metadata": {},
   "outputs": [
    {
     "name": "stderr",
     "output_type": "stream",
     "text": [
      "/home/glenn/.local/lib/python3.10/site-packages/xgboost/training.py:183: UserWarning: [12:54:34] WARNING: /workspace/src/learner.cc:738: \n",
      "Parameters: { \"use_label_encoder\" } are not used.\n",
      "\n",
      "  bst.update(dtrain, iteration=i, fobj=obj)\n"
     ]
    },
    {
     "name": "stdout",
     "output_type": "stream",
     "text": [
      "🔹 XGBoost Performance:\n",
      "              precision    recall  f1-score   support\n",
      "\n",
      "           0       0.99      0.99      0.99       424\n",
      "           1       0.97      0.96      0.97       161\n",
      "\n",
      "    accuracy                           0.98       585\n",
      "   macro avg       0.98      0.98      0.98       585\n",
      "weighted avg       0.98      0.98      0.98       585\n",
      "\n"
     ]
    }
   ],
   "source": [
    "from xgboost import XGBClassifier\n",
    "\n",
    "xgb_model = XGBClassifier(use_label_encoder=False, eval_metric=\"logloss\")\n",
    "xgb_model.fit(X_train, y_train)\n",
    "\n",
    "y_pred_xgb = xgb_model.predict(X_test)\n",
    "\n",
    "print(\"🔹 XGBoost Performance:\")\n",
    "print(classification_report(y_test, y_pred_xgb))"
   ]
  },
  {
   "cell_type": "code",
   "execution_count": 12,
   "id": "6f2e7dda",
   "metadata": {},
   "outputs": [
    {
     "name": "stdout",
     "output_type": "stream",
     "text": [
      "🔹 SVM Performance:\n",
      "              precision    recall  f1-score   support\n",
      "\n",
      "           0       0.95      0.92      0.93       424\n",
      "           1       0.80      0.88      0.83       161\n",
      "\n",
      "    accuracy                           0.90       585\n",
      "   macro avg       0.87      0.90      0.88       585\n",
      "weighted avg       0.91      0.90      0.91       585\n",
      "\n"
     ]
    }
   ],
   "source": [
    "from sklearn.svm import SVC\n",
    "\n",
    "svm_model = SVC(kernel=\"linear\")\n",
    "svm_model.fit(X_train, y_train)\n",
    "\n",
    "y_pred_svm = svm_model.predict(X_test)\n",
    "\n",
    "print(\"🔹 SVM Performance:\")\n",
    "print(classification_report(y_test, y_pred_svm))"
   ]
  },
  {
   "cell_type": "code",
   "execution_count": 13,
   "id": "6bfe8a17",
   "metadata": {},
   "outputs": [
    {
     "name": "stdout",
     "output_type": "stream",
     "text": [
      "🔹 Decision Tree Performance:\n",
      "              precision    recall  f1-score   support\n",
      "\n",
      "           0       0.99      0.99      0.99       424\n",
      "           1       0.97      0.96      0.97       161\n",
      "\n",
      "    accuracy                           0.98       585\n",
      "   macro avg       0.98      0.98      0.98       585\n",
      "weighted avg       0.98      0.98      0.98       585\n",
      "\n"
     ]
    }
   ],
   "source": [
    "from sklearn.tree import DecisionTreeClassifier\n",
    "\n",
    "dt_model = DecisionTreeClassifier(random_state=42)\n",
    "dt_model.fit(X_train, y_train)\n",
    "\n",
    "y_pred_dt = dt_model.predict(X_test)\n",
    "\n",
    "print(\"🔹 Decision Tree Performance:\")\n",
    "print(classification_report(y_test, y_pred_dt))"
   ]
  },
  {
   "cell_type": "code",
   "execution_count": 14,
   "id": "d6e94f62",
   "metadata": {},
   "outputs": [
    {
     "name": "stderr",
     "output_type": "stream",
     "text": [
      "/home/glenn/.local/lib/python3.10/site-packages/xgboost/training.py:183: UserWarning: [12:54:36] WARNING: /workspace/src/learner.cc:738: \n",
      "Parameters: { \"use_label_encoder\" } are not used.\n",
      "\n",
      "  bst.update(dtrain, iteration=i, fobj=obj)\n",
      "/home/glenn/.local/lib/python3.10/site-packages/xgboost/training.py:183: UserWarning: [12:54:39] WARNING: /workspace/src/learner.cc:738: \n",
      "Parameters: { \"use_label_encoder\" } are not used.\n",
      "\n",
      "  bst.update(dtrain, iteration=i, fobj=obj)\n",
      "/home/glenn/.local/lib/python3.10/site-packages/xgboost/training.py:183: UserWarning: [12:54:39] WARNING: /workspace/src/learner.cc:738: \n",
      "Parameters: { \"use_label_encoder\" } are not used.\n",
      "\n",
      "  bst.update(dtrain, iteration=i, fobj=obj)\n",
      "/home/glenn/.local/lib/python3.10/site-packages/xgboost/training.py:183: UserWarning: [12:54:39] WARNING: /workspace/src/learner.cc:738: \n",
      "Parameters: { \"use_label_encoder\" } are not used.\n",
      "\n",
      "  bst.update(dtrain, iteration=i, fobj=obj)\n",
      "/home/glenn/.local/lib/python3.10/site-packages/xgboost/training.py:183: UserWarning: [12:54:39] WARNING: /workspace/src/learner.cc:738: \n",
      "Parameters: { \"use_label_encoder\" } are not used.\n",
      "\n",
      "  bst.update(dtrain, iteration=i, fobj=obj)\n",
      "/home/glenn/.local/lib/python3.10/site-packages/xgboost/training.py:183: UserWarning: [12:54:40] WARNING: /workspace/src/learner.cc:738: \n",
      "Parameters: { \"use_label_encoder\" } are not used.\n",
      "\n",
      "  bst.update(dtrain, iteration=i, fobj=obj)\n"
     ]
    },
    {
     "name": "stdout",
     "output_type": "stream",
     "text": [
      "Stacking Classifier Accuracy: 0.9829\n"
     ]
    }
   ],
   "source": [
    "# Import necessary libraries\n",
    "from sklearn.ensemble import StackingClassifier\n",
    "from sklearn.linear_model import LogisticRegression\n",
    "from sklearn.ensemble import RandomForestClassifier\n",
    "from xgboost import XGBClassifier\n",
    "from sklearn.svm import SVC\n",
    "from sklearn.tree import DecisionTreeClassifier\n",
    "from sklearn.model_selection import train_test_split\n",
    "from sklearn.metrics import accuracy_score\n",
    "\n",
    "# Define base models\n",
    "base_models = [\n",
    "    ('rf', RandomForestClassifier(n_estimators=100, random_state=42)),\n",
    "    ('xgb', XGBClassifier(use_label_encoder=False, eval_metric=\"logloss\", random_state=42)),\n",
    "    ('svm', SVC(probability=True, kernel='rbf', random_state=42)),\n",
    "    ('dt', DecisionTreeClassifier(random_state=42))\n",
    "]\n",
    "\n",
    "# Define meta-learner (final model)\n",
    "meta_model = LogisticRegression()\n",
    "\n",
    "# Create the stacking classifier\n",
    "stacking_model = StackingClassifier(estimators=base_models, final_estimator=meta_model, cv=5)\n",
    "\n",
    "# Split the dataset into training and testing\n",
    "X = df.drop(columns=[\"Preclampsia_Outcome\"])  # Features\n",
    "y = df[\"Preclampsia_Outcome\"]  # Target variable\n",
    "\n",
    "X_train, X_test, y_train, y_test = train_test_split(X, y, test_size=0.2, random_state=42)\n",
    "\n",
    "# Train the stacking model\n",
    "stacking_model.fit(X_train, y_train)\n",
    "\n",
    "# Predict on test data\n",
    "y_pred = stacking_model.predict(X_test)\n",
    "\n",
    "# Evaluate accuracy\n",
    "stacking_accuracy = accuracy_score(y_test, y_pred)\n",
    "print(f\"Stacking Classifier Accuracy: {stacking_accuracy:.4f}\")"
   ]
  },
  {
   "cell_type": "code",
   "execution_count": 15,
   "id": "5175a878",
   "metadata": {},
   "outputs": [],
   "source": [
    "### Create a Pickle file using serialization \n",
    "import pickle\n",
    "pickle_out = open(\"classifier.pkl\",\"wb\")\n",
    "pickle.dump(stacking_model, pickle_out)\n",
    "pickle_out.close()"
   ]
  },
  {
   "cell_type": "code",
   "execution_count": 16,
   "id": "1cdc9c2e-7c7a-4d98-b221-5783ec4bd73d",
   "metadata": {},
   "outputs": [
    {
     "name": "stderr",
     "output_type": "stream",
     "text": [
      "/home/glenn/.local/lib/python3.10/site-packages/sklearn/utils/validation.py:2739: UserWarning: X does not have valid feature names, but RandomForestClassifier was fitted with feature names\n",
      "  warnings.warn(\n",
      "/home/glenn/.local/lib/python3.10/site-packages/sklearn/utils/validation.py:2739: UserWarning: X does not have valid feature names, but SVC was fitted with feature names\n",
      "  warnings.warn(\n",
      "/home/glenn/.local/lib/python3.10/site-packages/sklearn/utils/validation.py:2739: UserWarning: X does not have valid feature names, but DecisionTreeClassifier was fitted with feature names\n",
      "  warnings.warn(\n"
     ]
    },
    {
     "data": {
      "text/plain": [
       "array([1])"
      ]
     },
     "execution_count": 16,
     "metadata": {},
     "output_type": "execute_result"
    }
   ],
   "source": [
    "stacking_model.predict([[20,54.0,1,1,1,0,0,0,1.5,2,144,88]])"
   ]
  },
  {
   "cell_type": "code",
   "execution_count": 17,
   "id": "74b3bc85-c2d2-4380-a2da-eee5f2434637",
   "metadata": {},
   "outputs": [
    {
     "name": "stderr",
     "output_type": "stream",
     "text": [
      "/home/glenn/.local/lib/python3.10/site-packages/sklearn/utils/validation.py:2739: UserWarning: X does not have valid feature names, but RandomForestClassifier was fitted with feature names\n",
      "  warnings.warn(\n",
      "/home/glenn/.local/lib/python3.10/site-packages/sklearn/utils/validation.py:2739: UserWarning: X does not have valid feature names, but SVC was fitted with feature names\n",
      "  warnings.warn(\n",
      "/home/glenn/.local/lib/python3.10/site-packages/sklearn/utils/validation.py:2739: UserWarning: X does not have valid feature names, but DecisionTreeClassifier was fitted with feature names\n",
      "  warnings.warn(\n"
     ]
    },
    {
     "data": {
      "text/plain": [
       "array([0])"
      ]
     },
     "execution_count": 17,
     "metadata": {},
     "output_type": "execute_result"
    }
   ],
   "source": [
    "stacking_model.predict([[20,71.0,1,1,1,0,0,0,0.3,2,105,67]])"
   ]
  },
  {
   "cell_type": "code",
   "execution_count": null,
   "id": "2e5c4ffa-09c9-4d09-b3b4-392b1dd5f598",
   "metadata": {},
   "outputs": [],
   "source": []
  }
 ],
 "metadata": {
  "kernelspec": {
   "display_name": "Python 3 (ipykernel)",
   "language": "python",
   "name": "python3"
  },
  "language_info": {
   "codemirror_mode": {
    "name": "ipython",
    "version": 3
   },
   "file_extension": ".py",
   "mimetype": "text/x-python",
   "name": "python",
   "nbconvert_exporter": "python",
   "pygments_lexer": "ipython3",
   "version": "3.10.12"
  }
 },
 "nbformat": 4,
 "nbformat_minor": 5
}
